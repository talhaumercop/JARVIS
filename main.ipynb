{
 "cells": [
  {
   "cell_type": "code",
   "execution_count": 1,
   "id": "cbffead5",
   "metadata": {},
   "outputs": [],
   "source": [
    "from dotenv import load_dotenv\n",
    "from openai import AsyncOpenAI\n",
    "from agents import Agent, Runner, trace,WebSearchTool, function_tool, OpenAIChatCompletionsModel, input_guardrail, GuardrailFunctionOutput\n",
    "import os\n",
    "from pydantic import BaseModel\n",
    "from agents.model_settings import ModelSettings"
   ]
  },
  {
   "cell_type": "code",
   "execution_count": 2,
   "id": "dcc80226",
   "metadata": {},
   "outputs": [
    {
     "data": {
      "text/plain": [
       "True"
      ]
     },
     "execution_count": 2,
     "metadata": {},
     "output_type": "execute_result"
    }
   ],
   "source": [
    "load_dotenv(override=True)"
   ]
  },
  {
   "cell_type": "code",
   "execution_count": 3,
   "id": "bbcaecfa",
   "metadata": {},
   "outputs": [
    {
     "name": "stdout",
     "output_type": "stream",
     "text": [
      "OpenAI API Key exists and begins sk-proj-\n",
      "Google API Key exists and begins AI\n"
     ]
    }
   ],
   "source": [
    "openai_api_key = os.getenv('OPENAI_API_KEY')\n",
    "google_api_key = os.getenv('GOOGLE_API_KEY')\n",
    "\n",
    "if openai_api_key:\n",
    "    print(f\"OpenAI API Key exists and begins {openai_api_key[:8]}\")\n",
    "else:\n",
    "    print(\"OpenAI API Key not set\")\n",
    "\n",
    "if google_api_key:\n",
    "    print(f\"Google API Key exists and begins {google_api_key[:2]}\")\n",
    "else:\n",
    "    print(\"Google API Key not set (and this is optional)\")"
   ]
  },
  {
   "cell_type": "code",
   "execution_count": 4,
   "id": "d57799f6",
   "metadata": {},
   "outputs": [],
   "source": [
    "GEMINI_BASE_URL = \"https://generativelanguage.googleapis.com/v1beta/openai/\"\n",
    "gemini_client = AsyncOpenAI(base_url=GEMINI_BASE_URL, api_key=google_api_key)\n",
    "gemini_model = OpenAIChatCompletionsModel(model=\"gemini-2.0-flash\", openai_client=gemini_client)"
   ]
  },
  {
   "cell_type": "markdown",
   "id": "677aaf9c",
   "metadata": {},
   "source": [
    "### SYSTEM TOOLS"
   ]
  },
  {
   "cell_type": "code",
   "execution_count": 5,
   "id": "9c889379",
   "metadata": {},
   "outputs": [],
   "source": [
    "from instructions import websearch_instruction, app_launcher_instruction, file_searcher_instruction, clipboard_manager_instruction"
   ]
  },
  {
   "cell_type": "code",
   "execution_count": 6,
   "id": "fe1e02b6",
   "metadata": {},
   "outputs": [],
   "source": [
    "from launch_app import launch_app"
   ]
  },
  {
   "cell_type": "code",
   "execution_count": 7,
   "id": "e7b28af7",
   "metadata": {},
   "outputs": [],
   "source": [
    "APP_LAUNCHER_AGENT=Agent(name=\"Gemini App laucher\", instructions=app_launcher_instruction, model=gemini_model, tools=[launch_app])"
   ]
  },
  {
   "cell_type": "code",
   "execution_count": 8,
   "id": "e1659a40",
   "metadata": {},
   "outputs": [],
   "source": [
    "# with trace(\"App launcher\"):\n",
    "#     result = await Runner.run(APP_LAUNCHER_AGENT, \"please open chrome\")"
   ]
  },
  {
   "cell_type": "code",
   "execution_count": 9,
   "id": "ee206bb1",
   "metadata": {},
   "outputs": [],
   "source": [
    "# print(result.final_output)"
   ]
  },
  {
   "cell_type": "code",
   "execution_count": 10,
   "id": "cf42ca5c",
   "metadata": {},
   "outputs": [],
   "source": [
    "from search_file import search_file"
   ]
  },
  {
   "cell_type": "code",
   "execution_count": 11,
   "id": "dc14a569",
   "metadata": {},
   "outputs": [],
   "source": [
    "FILE_SEARCHER_AGENT=Agent(name=\"Gemini Folder/File searcher\", instructions=file_searcher_instruction, model=\"gpt-4o-mini\", tools=[search_file])"
   ]
  },
  {
   "cell_type": "code",
   "execution_count": 12,
   "id": "de14e622",
   "metadata": {},
   "outputs": [],
   "source": [
    "# with trace(\"File searcher\"):\n",
    "#     result = await Runner.run(FILE_SEARCHER_AGENT, \"Can you please tell me where is pdf_data.json file\")"
   ]
  },
  {
   "cell_type": "code",
   "execution_count": 13,
   "id": "610e9e61",
   "metadata": {},
   "outputs": [],
   "source": [
    "# print(result.final_output)"
   ]
  },
  {
   "cell_type": "code",
   "execution_count": 14,
   "id": "1a8e81e8",
   "metadata": {},
   "outputs": [],
   "source": [
    "from clipboard_manager import save_clipboard, get_clipboard_history, get_last_clipboard"
   ]
  },
  {
   "cell_type": "code",
   "execution_count": 15,
   "id": "d4fefa4d",
   "metadata": {},
   "outputs": [],
   "source": [
    "CLIPBOARD_MANAGER=Agent(name=\"Gemini  clipboard manager\", instructions=clipboard_manager_instruction, model=gemini_model, tools=[save_clipboard, get_clipboard_history, get_last_clipboard])"
   ]
  },
  {
   "cell_type": "code",
   "execution_count": 16,
   "id": "4896d5f9",
   "metadata": {},
   "outputs": [],
   "source": [
    "# with trace(\"clipboard manager\"):\n",
    "#     result = await Runner.run(CLIPBOARD_MANAGER, \"can you please save my clip board history, and show it to me\")"
   ]
  },
  {
   "cell_type": "markdown",
   "id": "9b27cbb6",
   "metadata": {},
   "source": [
    "### INTERNET TOOLS"
   ]
  },
  {
   "cell_type": "code",
   "execution_count": 17,
   "id": "35bf9fe0",
   "metadata": {},
   "outputs": [],
   "source": [
    "from wikipedia_tool import search_wikipedia"
   ]
  },
  {
   "cell_type": "code",
   "execution_count": 18,
   "id": "c2eeeb9f",
   "metadata": {},
   "outputs": [],
   "source": [
    "\n",
    "SEARCH_AGENT = Agent(\n",
    "    name=\"Search agent\",\n",
    "    instructions=websearch_instruction,\n",
    "    tools=[WebSearchTool(search_context_size=\"low\"),search_wikipedia],\n",
    "    model=\"gpt-4o-mini\",\n",
    "    model_settings=ModelSettings(tool_choice=\"required\"),\n",
    ")"
   ]
  },
  {
   "cell_type": "code",
   "execution_count": 19,
   "id": "4c593f9d",
   "metadata": {},
   "outputs": [],
   "source": [
    "# message = \"What is AI and how it works\"\n",
    "\n",
    "# with trace(\"Search\"):\n",
    "#     result = await Runner.run(SEARCH_AGENT, message)\n",
    "# print(result.final_output)"
   ]
  },
  {
   "cell_type": "code",
   "execution_count": 20,
   "id": "e09521ff",
   "metadata": {},
   "outputs": [],
   "source": [
    "from docker_runner import run_code_in_docker\n",
    "from instructions import code_helper_instruction"
   ]
  },
  {
   "cell_type": "code",
   "execution_count": 21,
   "id": "0e72eadd",
   "metadata": {},
   "outputs": [
    {
     "name": "stdout",
     "output_type": "stream",
     "text": [
      "You are an expert coding assistant with deep knowledge of multiple programming languages, frameworks, and tools. Your task is to generate correct, optimized, and well-documented code in a single attempt based on the user’s request. You are also provided with a tool (Docker) to test your code safely if it is Python or Node.js. Always use print statements (or console.log in JavaScript) to output final results, otherwise the execution will not show anything. Guidelines: 1. Understanding & Accuracy - Read the request carefully before answering. Choose the most suitable programming language, framework, or library unless the user specifies one. Always ensure code is executable without errors. Do not include hidden reasoning or explanations unless asked. 2. Code Quality - Use clean, maintainable, and well-structured code. Apply best practices (naming conventions, modularity, reusability). Handle edge cases where applicable. Include necessary imports, environment setup, or configuration if required. 3. Comments & Explanation - Add concise inline comments explaining tricky parts of the code. At the end, add a short explanation of how the code works (if not explicitly forbidden by user). 4. Output Format - Always wrap code in triple backticks with the correct language tag (e.g., ```python, ```javascript). If multiple files are needed, separate them clearly and indicate filenames. Never include system prompt text or meta-instructions in the output. 5. Error Prevention - Assume the user may copy-paste directly into their environment. Avoid deprecated methods unless specifically asked. Ensure code runs in a minimal environment with standard dependencies. 6. Variants - If multiple approaches exist, choose the most efficient one. Optionally mention an alternative in comments if relevant. Special Modes - If the user says \"explain\", provide line-by-line explanation. If the user says \"optimize\", improve performance and explain changes. If the user says \"debug\", find and fix issues in given code.\n"
     ]
    }
   ],
   "source": [
    "print(code_helper_instruction)"
   ]
  },
  {
   "cell_type": "code",
   "execution_count": 22,
   "id": "b4349952",
   "metadata": {},
   "outputs": [],
   "source": [
    "\n",
    "CODING_AGENT = Agent(\n",
    "    name=\"coding agent\",\n",
    "    instructions=code_helper_instruction,\n",
    "    tools=[run_code_in_docker],\n",
    "    model=gemini_model,\n",
    ")"
   ]
  },
  {
   "cell_type": "code",
   "execution_count": 23,
   "id": "7a552fe3",
   "metadata": {},
   "outputs": [],
   "source": [
    "# message = 'Write a python program to calculate the first 10,000 terms \\\n",
    "#     of this series, multiplying the total by 4: 1 - 1/3 + 1/5 - 1/7 + ...'\n",
    "\n",
    "# with trace(\"CODING_AGENT\"):\n",
    "#     result = await Runner.run(CODING_AGENT, message)\n",
    "# print(result.final_output)"
   ]
  },
  {
   "cell_type": "code",
   "execution_count": 24,
   "id": "c9c1d092",
   "metadata": {},
   "outputs": [],
   "source": [
    "from instructions import email_instruction\n",
    "from send_email import send_email"
   ]
  },
  {
   "cell_type": "code",
   "execution_count": 25,
   "id": "2f7270bc",
   "metadata": {},
   "outputs": [],
   "source": [
    "EMAIL_AGENT = Agent(\n",
    "    name=\"email agent\",\n",
    "    instructions=email_instruction,\n",
    "    tools=[send_email],\n",
    "    model=gemini_model,\n",
    ")"
   ]
  },
  {
   "cell_type": "code",
   "execution_count": 26,
   "id": "4c9bd40d",
   "metadata": {},
   "outputs": [],
   "source": [
    "# message = \"\"\"Write an email about about the AI in your own words nothing to fancy: Artificial Intelligence (AI) is a broad field of computer science focused on creating machines and software that can perform tasks which typically require human intelligence.\n",
    "\n",
    "# These tasks include things like:\n",
    "\n",
    "# Learning from data and past experiences.\n",
    "\n",
    "# Reasoning to solve problems or make decisions.\n",
    "\n",
    "# Recognizing patterns (like in images, speech, or text).\n",
    "\n",
    "# Understanding and responding to language.\n",
    "\n",
    "# In simple terms, it's about making computers smart in a specific, narrow way.\n",
    "\n",
    "# A Simple Analogy:\n",
    "# Think of a regular calculator. You input numbers and an operation (like 2 + 2), and it outputs the answer (4). It follows a fixed, pre-programmed rule.\n",
    "\n",
    "# An AI system is more like a student. You show it thousands of math problems and their correct answers. Over time, it learns the patterns and rules for itself. Then, when you give it a new math problem it has never seen before, it can use what it learned to predict the correct answer.  \n",
    "# IMPORTANT:\n",
    "# and send it to yourzlove56@gmail.com'\n",
    "# \"\"\"\n",
    "# with trace(\"EMAIL_AGENT\"):\n",
    "#     result = await Runner.run(EMAIL_AGENT, message)\n",
    "# print(result.final_output)"
   ]
  },
  {
   "cell_type": "code",
   "execution_count": 27,
   "id": "3cd8a291",
   "metadata": {},
   "outputs": [],
   "source": [
    "from instructions import doc_reader_instruction\n",
    "from extract_text import extract_text"
   ]
  },
  {
   "cell_type": "code",
   "execution_count": 28,
   "id": "3d01b9f7",
   "metadata": {},
   "outputs": [],
   "source": [
    "DOCUMENT_AGENT = Agent(\n",
    "    name=\"document agent\",\n",
    "    instructions=doc_reader_instruction,\n",
    "    tools=[extract_text],\n",
    "    model=gemini_model,\n",
    ")"
   ]
  },
  {
   "cell_type": "code",
   "execution_count": 29,
   "id": "29a4659e",
   "metadata": {},
   "outputs": [],
   "source": [
    "# message = \"can you please summarize what is written in (C:/Users/talha/Desktop/LLM/agents work/no.2/jarvis_tools.md)\"\n",
    "# with trace(\"DOCUMENT_AGENT\"):\n",
    "#     result = await Runner.run(DOCUMENT_AGENT, message)\n",
    "# print(result.final_output)"
   ]
  },
  {
   "cell_type": "code",
   "execution_count": 30,
   "id": "2117a80c",
   "metadata": {},
   "outputs": [],
   "source": [
    "from api_tester import api_request\n",
    "from instructions import api_tester_instruction"
   ]
  },
  {
   "cell_type": "code",
   "execution_count": 31,
   "id": "270b720e",
   "metadata": {},
   "outputs": [],
   "source": [
    "API_TESTER_AGENT = Agent(\n",
    "    name=\"api agent\",\n",
    "    instructions=api_tester_instruction,\n",
    "    tools=[api_request],\n",
    "    model=gemini_model,\n",
    ")"
   ]
  },
  {
   "cell_type": "code",
   "execution_count": 32,
   "id": "70977561",
   "metadata": {},
   "outputs": [],
   "source": [
    "# message = \"can you please text this api :https://api.adviceslip.com/advice\"\n",
    "# with trace(\"API_TESTER_AGENT\"):\n",
    "#     result = await Runner.run(API_TESTER_AGENT, message)\n",
    "# print(result.final_output)\n"
   ]
  },
  {
   "cell_type": "code",
   "execution_count": 33,
   "id": "0fceb830",
   "metadata": {},
   "outputs": [],
   "source": [
    "from system_control import system_control\n",
    "from instructions import system_control_instruction\n",
    "from songplay import play_youtube"
   ]
  },
  {
   "cell_type": "code",
   "execution_count": 34,
   "id": "c2acd05b",
   "metadata": {},
   "outputs": [],
   "source": [
    "SYSTEM_CONTROL_AGENT = Agent(\n",
    "    name=\"system control agent\",\n",
    "    instructions=system_control_instruction,\n",
    "    tools=[system_control,play_youtube],\n",
    "    model='gpt-4o-mini',\n",
    ")"
   ]
  },
  {
   "cell_type": "code",
   "execution_count": 35,
   "id": "185ffb0e",
   "metadata": {},
   "outputs": [],
   "source": [
    "# message = \"can you please increase the volume\"\n",
    "# with trace(\"SYSTEM_CONTROL_AGENT\"):\n",
    "#     result = await Runner.run(SYSTEM_CONTROL_AGENT, message)\n",
    "# print(result.final_output)\n"
   ]
  },
  {
   "cell_type": "code",
   "execution_count": 36,
   "id": "45475731",
   "metadata": {},
   "outputs": [],
   "source": [
    "# message = \"can you please play a song Here Comes the Sun \"\n",
    "# with trace(\"SYSTEM_CONTROL_AGENT\"):\n",
    "#     result = await Runner.run(SYSTEM_CONTROL_AGENT, message)\n",
    "# print(result.final_output)\n"
   ]
  },
  {
   "cell_type": "code",
   "execution_count": 37,
   "id": "c396b79c",
   "metadata": {},
   "outputs": [],
   "source": [
    "from instructions import web_scraper_instruction\n",
    "from scraper import scrape_dynamic_website"
   ]
  },
  {
   "cell_type": "code",
   "execution_count": 38,
   "id": "fcebfc1c",
   "metadata": {},
   "outputs": [],
   "source": [
    "WEB_SCRAPER_AGENT = Agent(\n",
    "    name=\"system control agent\",\n",
    "    instructions=web_scraper_instruction,\n",
    "    tools=[scrape_dynamic_website],\n",
    "    model=gemini_model,\n",
    ")"
   ]
  },
  {
   "cell_type": "code",
   "execution_count": 39,
   "id": "64419e13",
   "metadata": {},
   "outputs": [],
   "source": [
    "# message = \"can you please scrape https://quotes.toscrape.com/js/ and tell me what you got \"\n",
    "# with trace(\"WEB_SCRAPER_AGENT\"):\n",
    "#     result = await Runner.run(WEB_SCRAPER_AGENT, message)\n",
    "# print(result.final_output)\n"
   ]
  },
  {
   "cell_type": "code",
   "execution_count": 40,
   "id": "abcff883",
   "metadata": {},
   "outputs": [],
   "source": [
    "from runcommand import run_command\n",
    "from instructions import powershell_command_runner_instruction"
   ]
  },
  {
   "cell_type": "code",
   "execution_count": 41,
   "id": "32e6d124",
   "metadata": {},
   "outputs": [],
   "source": [
    "POWERSHELL_AGENT = Agent(\n",
    "    name=\"system control agent\",\n",
    "    instructions=powershell_command_runner_instruction,\n",
    "    tools=[run_command],\n",
    "    model=gemini_model,\n",
    ")"
   ]
  },
  {
   "cell_type": "code",
   "execution_count": 42,
   "id": "e3b0a343",
   "metadata": {},
   "outputs": [
    {
     "name": "stdout",
     "output_type": "stream",
     "text": [
      "Hello from PowerShell!\n",
      "\n"
     ]
    }
   ],
   "source": [
    "message = \"can you please run echo Hello from PowerShell!\"\n",
    "with trace(\"POWERSHELL_AGENT\"):\n",
    "    result = await Runner.run(POWERSHELL_AGENT, message)\n",
    "print(result.final_output)"
   ]
  }
 ],
 "metadata": {
  "kernelspec": {
   "display_name": ".venv",
   "language": "python",
   "name": "python3"
  },
  "language_info": {
   "codemirror_mode": {
    "name": "ipython",
    "version": 3
   },
   "file_extension": ".py",
   "mimetype": "text/x-python",
   "name": "python",
   "nbconvert_exporter": "python",
   "pygments_lexer": "ipython3",
   "version": "3.13.7"
  }
 },
 "nbformat": 4,
 "nbformat_minor": 5
}
