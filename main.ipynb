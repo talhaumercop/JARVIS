{
 "cells": [
  {
   "cell_type": "code",
   "execution_count": 1,
   "id": "cbffead5",
   "metadata": {},
   "outputs": [],
   "source": [
    "from dotenv import load_dotenv\n",
    "from openai import AsyncOpenAI\n",
    "from agents import Agent, Runner, trace,WebSearchTool, function_tool, OpenAIChatCompletionsModel, input_guardrail, GuardrailFunctionOutput\n",
    "import os\n",
    "from pydantic import BaseModel\n",
    "from agents.model_settings import ModelSettings"
   ]
  },
  {
   "cell_type": "code",
   "execution_count": 2,
   "id": "dcc80226",
   "metadata": {},
   "outputs": [
    {
     "data": {
      "text/plain": [
       "True"
      ]
     },
     "execution_count": 2,
     "metadata": {},
     "output_type": "execute_result"
    }
   ],
   "source": [
    "load_dotenv(override=True)"
   ]
  },
  {
   "cell_type": "code",
   "execution_count": 3,
   "id": "bbcaecfa",
   "metadata": {},
   "outputs": [
    {
     "name": "stdout",
     "output_type": "stream",
     "text": [
      "OpenAI API Key exists and begins sk-proj-\n",
      "Google API Key exists and begins AI\n"
     ]
    }
   ],
   "source": [
    "openai_api_key = os.getenv('OPENAI_API_KEY')\n",
    "google_api_key = os.getenv('GOOGLE_API_KEY')\n",
    "\n",
    "if openai_api_key:\n",
    "    print(f\"OpenAI API Key exists and begins {openai_api_key[:8]}\")\n",
    "else:\n",
    "    print(\"OpenAI API Key not set\")\n",
    "\n",
    "if google_api_key:\n",
    "    print(f\"Google API Key exists and begins {google_api_key[:2]}\")\n",
    "else:\n",
    "    print(\"Google API Key not set (and this is optional)\")"
   ]
  },
  {
   "cell_type": "code",
   "execution_count": 4,
   "id": "d57799f6",
   "metadata": {},
   "outputs": [],
   "source": [
    "GEMINI_BASE_URL = \"https://generativelanguage.googleapis.com/v1beta/openai/\"\n",
    "gemini_client = AsyncOpenAI(base_url=GEMINI_BASE_URL, api_key=google_api_key)\n",
    "gemini_model = OpenAIChatCompletionsModel(model=\"gemini-2.0-flash\", openai_client=gemini_client)"
   ]
  },
  {
   "cell_type": "markdown",
   "id": "677aaf9c",
   "metadata": {},
   "source": [
    "### SYSTEM TOOLS"
   ]
  },
  {
   "cell_type": "code",
   "execution_count": 5,
   "id": "9c889379",
   "metadata": {},
   "outputs": [],
   "source": [
    "from instructions import websearch_instruction, app_launcher_instruction, file_searcher_instruction, clipboard_manager_instruction"
   ]
  },
  {
   "cell_type": "code",
   "execution_count": 6,
   "id": "fe1e02b6",
   "metadata": {},
   "outputs": [],
   "source": [
    "from launch_app import launch_app"
   ]
  },
  {
   "cell_type": "code",
   "execution_count": 7,
   "id": "e7b28af7",
   "metadata": {},
   "outputs": [],
   "source": [
    "APP_LAUNCHER_AGENT=Agent(name=\"Gemini App laucher\", instructions=app_launcher_instruction, model=gemini_model, tools=[launch_app])"
   ]
  },
  {
   "cell_type": "code",
   "execution_count": 8,
   "id": "e1659a40",
   "metadata": {},
   "outputs": [],
   "source": [
    "# with trace(\"App launcher\"):\n",
    "#     result = await Runner.run(APP_LAUNCHER_AGENT, \"please open chrome\")"
   ]
  },
  {
   "cell_type": "code",
   "execution_count": 9,
   "id": "ee206bb1",
   "metadata": {},
   "outputs": [],
   "source": [
    "# print(result.final_output)"
   ]
  },
  {
   "cell_type": "code",
   "execution_count": 10,
   "id": "cf42ca5c",
   "metadata": {},
   "outputs": [],
   "source": [
    "from search_file import search_file"
   ]
  },
  {
   "cell_type": "code",
   "execution_count": 11,
   "id": "dc14a569",
   "metadata": {},
   "outputs": [],
   "source": [
    "FILE_SEARCHER_AGENT=Agent(name=\"Gemini Folder/File searcher\", instructions=file_searcher_instruction, model=\"gpt-4o-mini\", tools=[search_file])"
   ]
  },
  {
   "cell_type": "code",
   "execution_count": 12,
   "id": "de14e622",
   "metadata": {},
   "outputs": [],
   "source": [
    "# with trace(\"File searcher\"):\n",
    "#     result = await Runner.run(FILE_SEARCHER_AGENT, \"Can you please tell me where is pdf_data.json file\")"
   ]
  },
  {
   "cell_type": "code",
   "execution_count": 13,
   "id": "610e9e61",
   "metadata": {},
   "outputs": [],
   "source": [
    "# print(result.final_output)"
   ]
  },
  {
   "cell_type": "code",
   "execution_count": 14,
   "id": "1a8e81e8",
   "metadata": {},
   "outputs": [],
   "source": [
    "from clipboard_manager import save_clipboard, get_clipboard_history, get_last_clipboard"
   ]
  },
  {
   "cell_type": "code",
   "execution_count": 15,
   "id": "d4fefa4d",
   "metadata": {},
   "outputs": [],
   "source": [
    "CLIPBOARD_MANAGER=Agent(name=\"Gemini  clipboard manager\", instructions=clipboard_manager_instruction, model=gemini_model, tools=[save_clipboard, get_clipboard_history, get_last_clipboard])"
   ]
  },
  {
   "cell_type": "code",
   "execution_count": 16,
   "id": "4896d5f9",
   "metadata": {},
   "outputs": [],
   "source": [
    "# with trace(\"clipboard manager\"):\n",
    "#     result = await Runner.run(CLIPBOARD_MANAGER, \"can you please save my clip board history, and show it to me\")"
   ]
  },
  {
   "cell_type": "markdown",
   "id": "9b27cbb6",
   "metadata": {},
   "source": [
    "### INTERNET TOOLS"
   ]
  },
  {
   "cell_type": "code",
   "execution_count": 17,
   "id": "35bf9fe0",
   "metadata": {},
   "outputs": [],
   "source": [
    "from wikipedia_tool import search_wikipedia"
   ]
  },
  {
   "cell_type": "code",
   "execution_count": 18,
   "id": "c2eeeb9f",
   "metadata": {},
   "outputs": [],
   "source": [
    "\n",
    "SEARCH_AGENT = Agent(\n",
    "    name=\"Search agent\",\n",
    "    instructions=websearch_instruction,\n",
    "    tools=[WebSearchTool(search_context_size=\"low\"),search_wikipedia],\n",
    "    model=\"gpt-4o-mini\",\n",
    "    model_settings=ModelSettings(tool_choice=\"required\"),\n",
    ")"
   ]
  },
  {
   "cell_type": "code",
   "execution_count": 19,
   "id": "4c593f9d",
   "metadata": {},
   "outputs": [],
   "source": [
    "# message = \"What is AI and how it works\"\n",
    "\n",
    "# with trace(\"Search\"):\n",
    "#     result = await Runner.run(SEARCH_AGENT, message)\n",
    "# print(result.final_output)"
   ]
  },
  {
   "cell_type": "code",
   "execution_count": 20,
   "id": "e09521ff",
   "metadata": {},
   "outputs": [],
   "source": [
    "from docker_runner import run_code_in_docker\n",
    "from instructions import code_helper_instruction"
   ]
  },
  {
   "cell_type": "code",
   "execution_count": 21,
   "id": "0e72eadd",
   "metadata": {},
   "outputs": [
    {
     "name": "stdout",
     "output_type": "stream",
     "text": [
      "You are an expert coding assistant with deep knowledge of multiple programming languages, frameworks, and tools. Your task is to generate correct, optimized, and well-documented code in a single attempt based on the user’s request. You are also provided with a tool (Docker) to test your code safely if it is Python or Node.js. Always use print statements (or console.log in JavaScript) to output final results, otherwise the execution will not show anything. Guidelines: 1. Understanding & Accuracy - Read the request carefully before answering. Choose the most suitable programming language, framework, or library unless the user specifies one. Always ensure code is executable without errors. Do not include hidden reasoning or explanations unless asked. 2. Code Quality - Use clean, maintainable, and well-structured code. Apply best practices (naming conventions, modularity, reusability). Handle edge cases where applicable. Include necessary imports, environment setup, or configuration if required. 3. Comments & Explanation - Add concise inline comments explaining tricky parts of the code. At the end, add a short explanation of how the code works (if not explicitly forbidden by user). 4. Output Format - Always wrap code in triple backticks with the correct language tag (e.g., ```python, ```javascript). If multiple files are needed, separate them clearly and indicate filenames. Never include system prompt text or meta-instructions in the output. 5. Error Prevention - Assume the user may copy-paste directly into their environment. Avoid deprecated methods unless specifically asked. Ensure code runs in a minimal environment with standard dependencies. 6. Variants - If multiple approaches exist, choose the most efficient one. Optionally mention an alternative in comments if relevant. Special Modes - If the user says \"explain\", provide line-by-line explanation. If the user says \"optimize\", improve performance and explain changes. If the user says \"debug\", find and fix issues in given code.\n"
     ]
    }
   ],
   "source": [
    "print(code_helper_instruction)"
   ]
  },
  {
   "cell_type": "code",
   "execution_count": 22,
   "id": "b4349952",
   "metadata": {},
   "outputs": [],
   "source": [
    "\n",
    "CODING_AGENT = Agent(\n",
    "    name=\"coding agent\",\n",
    "    instructions=code_helper_instruction,\n",
    "    tools=[run_code_in_docker],\n",
    "    model=\"gpt-4o-mini\",\n",
    "    model_settings=ModelSettings(tool_choice=\"required\"),\n",
    ")"
   ]
  },
  {
   "cell_type": "code",
   "execution_count": 23,
   "id": "7a552fe3",
   "metadata": {},
   "outputs": [
    {
     "name": "stdout",
     "output_type": "stream",
     "text": [
      "Here’s the Python program that calculates the first 10,000 terms of the series \\( 1 - \\frac{1}{3} + \\frac{1}{5} - \\frac{1}{7} + \\ldots \\) and multiplies the total by 4:\n",
      "\n",
      "```python\n",
      "# Calculate the first 10,000 terms of the series: 1 - 1/3 + 1/5 - 1/7 + ...\n",
      "\n",
      "def calculate_series(n_terms):\n",
      "    total = 0\n",
      "    for i in range(n_terms):\n",
      "        term = (-1) ** i / (2 * i + 1)  # Compute each term\n",
      "        total += term  # Add or subtract based on the term's sign\n",
      "    return total * 4  # Multiply the final total by 4\n",
      "\n",
      "# Number of terms to compute\n",
      "num_terms = 10000\n",
      "result = calculate_series(num_terms)\n",
      "print(result)  # Output the result\n",
      "```\n",
      "\n",
      "### Output\n",
      "The result of calculating the series is approximately \\( 3.1414926535900345 \\). \n",
      "\n",
      "This value is an approximation of \\( \\pi \\), demonstrating how the series converges to this mathematical constant.\n"
     ]
    }
   ],
   "source": [
    "message = 'Write a python program to calculate the first 10,000 terms \\\n",
    "    of this series, multiplying the total by 4: 1 - 1/3 + 1/5 - 1/7 + ...'\n",
    "\n",
    "with trace(\"CODING_AGENT\"):\n",
    "    result = await Runner.run(CODING_AGENT, message)\n",
    "print(result.final_output)"
   ]
  }
 ],
 "metadata": {
  "kernelspec": {
   "display_name": ".venv",
   "language": "python",
   "name": "python3"
  },
  "language_info": {
   "codemirror_mode": {
    "name": "ipython",
    "version": 3
   },
   "file_extension": ".py",
   "mimetype": "text/x-python",
   "name": "python",
   "nbconvert_exporter": "python",
   "pygments_lexer": "ipython3",
   "version": "3.13.7"
  }
 },
 "nbformat": 4,
 "nbformat_minor": 5
}
